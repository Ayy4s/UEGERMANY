{
  "cells": [
    {
      "cell_type": "markdown",
      "metadata": {
        "id": "view-in-github",
        "colab_type": "text"
      },
      "source": [
        "<a href=\"https://colab.research.google.com/github/Ayy4s/UEGERMANY/blob/main/2_Cave_Game_%C4%B0BRAH%C4%B0M_%C3%96ZCAN_25118939_.ipynb\" target=\"_parent\"><img src=\"https://colab.research.google.com/assets/colab-badge.svg\" alt=\"Open In Colab\"/></a>"
      ]
    },
    {
      "cell_type": "markdown",
      "metadata": {
        "id": "t5eRquJOr-Z-"
      },
      "source": [
        "## THE CAVE GAME"
      ]
    },
    {
      "cell_type": "markdown",
      "metadata": {
        "id": "UsDMYArrr-aC"
      },
      "source": [
        "coded by [İBRAHİM ÖZCAN]\n",
        "author:İBRAHİM ÖZCAN student_id(Matriculation no): 25118939 date:5.11\n",
        "2023"
      ]
    },
    {
      "cell_type": "markdown",
      "metadata": {
        "id": "Rm25ZIbAr-aD"
      },
      "source": [
        "### Function: \"Display Intro\""
      ]
    },
    {
      "cell_type": "markdown",
      "metadata": {
        "id": "rYss5BsDr-aD"
      },
      "source": [
        "Define a welcome print line text that should be seen in the beginning of your game\n",
        "The text welcomes the player by name and tells him/her that he/she stands in front of two caves"
      ]
    },
    {
      "cell_type": "code",
      "execution_count": 8,
      "metadata": {
        "id": "Rla5JF5rr-aE"
      },
      "outputs": [],
      "source": [
        "def display_intro(name): #Basic def function and display name\n",
        "    print(\"Hello, \" + name + \"!\") #we should say hi first and name of course.\n",
        "    print(\"You are standing in front of two caves.\") # we are explaning the what is going on\n"
      ]
    },
    {
      "cell_type": "markdown",
      "metadata": {
        "id": "FkFZPxNMr-aF"
      },
      "source": [
        "### Function \"Solve Riddle\""
      ]
    },
    {
      "cell_type": "markdown",
      "metadata": {
        "id": "1RzEaq-0r-aF"
      },
      "source": [
        "Give your player a question or riddle in a print line. Ask for the answer with input()\n",
        "\n",
        "Hint: Numerical results are easier to check! Please use a numerical result.\n",
        "\n",
        "Basic setup example:\n",
        "\n",
        "Check if the result in the variable \"solution\" is right. Use an if-condition.\n",
        "\n",
        "Return TRUE for the right answer\n",
        "Return FALSE otherwise\n",
        "   "
      ]
    },
    {
      "cell_type": "code",
      "execution_count": 9,
      "metadata": {
        "id": "9VUOoForr-aG"
      },
      "outputs": [],
      "source": [
        "def solve_riddle():\n",
        "    print(\"Here's a riddle for you: What is the sum of 20 and 31?\") #  the riddle or question\n",
        "    player_answer = input(\"Enter your answer: \") # here we are giving answer input\n",
        "\n",
        "    try:\n",
        "        player_answer = int(player_answer) #I did 'int' because we need a whole number, positive or negative, without decimals, of unlimited length.\n",
        "        solution = 20 + 31\n",
        "\n",
        "        if player_answer == solution:      #if solution equal 51 the player will pass\n",
        "            print(\"Correct! You've solved the riddle.\")\n",
        "            return True\n",
        "        else:                             # we are using else function if the player didn't true. console says try again\n",
        "            print(\"Incorrect. Try again.\")\n",
        "            return False\n",
        "    except ValueError:                   #Here we are saying please give numerical answer.\n",
        "        print(\"Please enter a numerical answer.\")\n",
        "        return False\n"
      ]
    },
    {
      "cell_type": "markdown",
      "metadata": {
        "id": "dtdeoBm6r-aH"
      },
      "source": [
        "### Function \"Go to Cave\""
      ]
    },
    {
      "cell_type": "markdown",
      "metadata": {
        "id": "nqFjZIfdr-aH"
      },
      "source": [
        "Depending on the value of \"number\", define the following if-conditions\n",
        "    \n",
        "In the case of number == 1, the cave is friendly\n",
        "-> call the function friendly_cave\n",
        "    \n",
        "In the case of number == 2, the cave is unfriendly\n",
        "-> call the function unfriendly_cave"
      ]
    },
    {
      "cell_type": "code",
      "execution_count": 3,
      "metadata": {
        "id": "Or3vhg6kr-aI"
      },
      "outputs": [],
      "source": [
        "def go_to_cave(char_name, number):\n",
        "    if number == 1:\n",
        "        friendly_cave(char_name) # 1 is friendly cave but...\n",
        "    elif number == 2:\n",
        "        unfriendly_cave(char_name) # 2 is unfriendly. here we defined 1 and 2.\n",
        "    else:\n",
        "        print(\"You entered an invalid cave number.\")\n",
        "\n",
        "def friendly_cave(name):\n",
        "    print(\"Hello, \" + name + \"! You entered a friendly cave. You find treasures inside!\") #after decision we preparing to prints. 1 or 2 prints.\n",
        "\n",
        "def unfriendly_cave(name):\n",
        "    print(\"Oh no, \" + name + \"! You entered an unfriendly cave. It's dark and full of dangers!\")\n",
        "\n",
        "def play_cave_game():\n",
        "    char_name = input(\"Please choose a character name: \")                      # I did this part different for being sure. I did write before but other parts. The codes in this section are also available below. Each part will be below.\n",
        "    display_intro(char_name)\n",
        "\n",
        "    print(\"You'll need to make a decision. Which cave would you like to explore?\")\n",
        "    cave_choice = input(\"Enter the number of the cave you want to explore (1 or 2): \")\n",
        "\n",
        "    if cave_choice == \"1\":\n",
        "        go_to_cave(char_name, 1)\n",
        "    elif cave_choice == \"2\":\n",
        "        go_to_cave(char_name, 2)\n",
        "    else:\n",
        "        print(\"Invalid choice. You must enter '1' or '2'.\")"
      ]
    },
    {
      "cell_type": "markdown",
      "metadata": {
        "id": "NQidr2FXr-aI"
      },
      "source": [
        "### Functions \"Friendly Cave\" and \"Unfriendly Cave\""
      ]
    },
    {
      "cell_type": "markdown",
      "metadata": {
        "id": "XrL9uaJlr-aJ"
      },
      "source": [
        "Define in a print line what the player should read, once s/he ends up in a friendly cave.\n",
        "\n",
        "Please use the name in the print line"
      ]
    },
    {
      "cell_type": "code",
      "execution_count": 4,
      "metadata": {
        "id": "rM7I6bFSr-aK"
      },
      "outputs": [],
      "source": [
        "def friendly_cave(name):\n",
        "    print(\"Hello, \" + name + \"! You entered a friendly cave. You find treasures inside!\") #now decision time. 1 cave\n",
        "\n"
      ]
    },
    {
      "cell_type": "markdown",
      "metadata": {
        "id": "cOQuVEk3r-aK"
      },
      "source": [
        "Define in a print line what the player should read, once s/he ends up in an unfriendly cave\n",
        "\n",
        "Please use the name in the print line"
      ]
    },
    {
      "cell_type": "code",
      "execution_count": 5,
      "metadata": {
        "id": "HHLxbmk2r-aL"
      },
      "outputs": [],
      "source": [
        "def unfriendly_cave(name):\n",
        "    print(\"Oh no, \" + name + \"! You entered an unfriendly cave. It's dark and full of dangers!\") #2 cave decision\n"
      ]
    },
    {
      "cell_type": "markdown",
      "metadata": {
        "id": "0657Oo6fr-aM"
      },
      "source": [
        "### Main function to run the game (no modification required / adaptations are optional)"
      ]
    },
    {
      "cell_type": "code",
      "execution_count": 6,
      "metadata": {
        "id": "mTlCdBPgr-aM"
      },
      "outputs": [],
      "source": [
        "def play_cave_game():\n",
        "    char_name = input(\"Please choose a character name: \")\n",
        "    display_intro(char_name)\n",
        "\n",
        "    if solve_riddle():\n",
        "        cave_choice = input(\"You've solved the riddle! Which cave would you like to explore (1 or 2): \")\n",
        "\n",
        "        if cave_choice == \"1\":\n",
        "            go_to_cave(char_name, 1)\n",
        "        elif cave_choice == \"2\":\n",
        "            go_to_cave(char_name, 2)\n",
        "        else:\n",
        "            print(\"Invalid choice. You must enter '1' or '2'.\")\n",
        "    else:\n",
        "        print(\"You couldn't solve the riddle. The caves remain unexplored.\")\n",
        "\n"
      ]
    },
    {
      "cell_type": "markdown",
      "metadata": {
        "id": "o9Dxmzcgr-aN"
      },
      "source": [
        "### Application - start the game"
      ]
    },
    {
      "cell_type": "code",
      "execution_count": 7,
      "metadata": {
        "id": "pzRTAAq_r-aN",
        "colab": {
          "base_uri": "https://localhost:8080/"
        },
        "outputId": "2b975297-8df8-4a75-b67b-725103d50d27"
      },
      "outputs": [
        {
          "output_type": "stream",
          "name": "stdout",
          "text": [
            "Please choose a character name: Ayyas\n",
            "Hello, Ayyas!\n",
            "You are standing in front of two caves.\n",
            "Here's a riddle for you: What is the sum of 20 and 31?\n",
            "Enter your answer: 51\n",
            "Correct! You've solved the riddle.\n",
            "You've solved the riddle! Which cave would you like to explore (1 or 2): 2\n",
            "Oh no, Ayyas! You entered an unfriendly cave. It's dark and full of dangers!\n"
          ]
        }
      ],
      "source": [
        "play_cave_game()          # Last part the prog"
      ]
    },
    {
      "cell_type": "code",
      "source": [],
      "metadata": {
        "id": "vPUVp4br7hSs"
      },
      "execution_count": null,
      "outputs": []
    }
  ],
  "metadata": {
    "kernelspec": {
      "display_name": "Python 3",
      "language": "python",
      "name": "python3"
    },
    "language_info": {
      "codemirror_mode": {
        "name": "ipython",
        "version": 3
      },
      "file_extension": ".py",
      "mimetype": "text/x-python",
      "name": "python",
      "nbconvert_exporter": "python",
      "pygments_lexer": "ipython3",
      "version": "3.7.1"
    },
    "colab": {
      "provenance": [],
      "include_colab_link": true
    }
  },
  "nbformat": 4,
  "nbformat_minor": 0
}