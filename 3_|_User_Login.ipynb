{
  "nbformat": 4,
  "nbformat_minor": 0,
  "metadata": {
    "colab": {
      "provenance": [],
      "authorship_tag": "ABX9TyOvSOB0/x3epRtSlfcm5VKv",
      "include_colab_link": true
    },
    "kernelspec": {
      "name": "python3",
      "display_name": "Python 3"
    },
    "language_info": {
      "name": "python"
    }
  },
  "cells": [
    {
      "cell_type": "markdown",
      "metadata": {
        "id": "view-in-github",
        "colab_type": "text"
      },
      "source": [
        "<a href=\"https://colab.research.google.com/github/Ayy4s/UEGERMANY/blob/main/3_%7C_User_Login.ipynb\" target=\"_parent\"><img src=\"https://colab.research.google.com/assets/colab-badge.svg\" alt=\"Open In Colab\"/></a>"
      ]
    },
    {
      "cell_type": "markdown",
      "source": [
        "coded by [İBRAHİM ÖZCAN] author:İBRAHİM ÖZCAN student_id(Matriculation no): 25118939 date:20.11 2023"
      ],
      "metadata": {
        "id": "0y5eIkqKOYXJ"
      }
    },
    {
      "cell_type": "markdown",
      "source": [
        "Part 1: Global Variable and create_user Function"
      ],
      "metadata": {
        "id": "DfmWXMLbNenS"
      }
    },
    {
      "cell_type": "markdown",
      "source": [
        "In this part, we create a global variable login_data, which is initially an empty list. The create_user function takes a username and a password as arguments. It checks if the provided username already exists in the login_data list. If the username is not found, it appends a new user (username and password combination) to the list. The function then prints a success message.\n"
      ],
      "metadata": {
        "id": "AJYpngH0Olpl"
      }
    },
    {
      "cell_type": "code",
      "source": [
        "\n",
        "login_data = [] # Global Variable for Login Data\n",
        "\n",
        "\n",
        "def create_user(username, password): # Function to Create User\n",
        "    # Check if the username already exists\n",
        "    for user in login_data:\n",
        "        if user['username'] == username:\n",
        "            print(f\"Username '{username}' already exists. Please choose a different username.\")\n",
        "            return\n",
        "\n",
        "    # If the username is not already registered, add the new user\n",
        "    login_data.append({'username': username, 'password': password})\n",
        "    print(f\"User '{username}' successfully created.\")\n"
      ],
      "metadata": {
        "id": "-E-UcXnbNbfZ"
      },
      "execution_count": 4,
      "outputs": []
    },
    {
      "cell_type": "markdown",
      "source": [
        "Part 2: user_login Function"
      ],
      "metadata": {
        "id": "bzMR3AQoNmeD"
      }
    },
    {
      "cell_type": "markdown",
      "source": [
        "The user_login function takes a username and a password as arguments. It iterates through the login_data list to find a match for the provided username and password. If a match is found, it returns True; otherwise, it returns False."
      ],
      "metadata": {
        "id": "Lf-RFghcOqz_"
      }
    },
    {
      "cell_type": "code",
      "source": [
        "# Function to Login User\n",
        "def user_login(username, password):\n",
        "    # Check if the combination of username and password exists in login_data\n",
        "    for user in login_data:\n",
        "        if user['username'] == username and user['password'] == password:\n",
        "            return True\n",
        "\n",
        "    # If no match is found, return False\n",
        "    return False\n"
      ],
      "metadata": {
        "id": "zOuKnBn_Njva"
      },
      "execution_count": 5,
      "outputs": []
    },
    {
      "cell_type": "markdown",
      "source": [
        "Part 3: reset_user Function"
      ],
      "metadata": {
        "id": "u-LlijL1Nsix"
      }
    },
    {
      "cell_type": "markdown",
      "source": [
        "The reset_user function clears all user data from the login_data list using the clear method. It then prints a message indicating that all user data has been cleared."
      ],
      "metadata": {
        "id": "PgLBLo5sOwGD"
      }
    },
    {
      "cell_type": "code",
      "source": [
        "# Function to Reset User Data\n",
        "def reset_user():\n",
        "    # Clear all user data from login_data\n",
        "    login_data.clear()\n",
        "    print(\"All user data successfully cleared.\")\n"
      ],
      "metadata": {
        "id": "0BbcyLW9NqCh"
      },
      "execution_count": 6,
      "outputs": []
    },
    {
      "cell_type": "markdown",
      "source": [
        "Part 4: Main Function"
      ],
      "metadata": {
        "id": "2HPPCMV1Ny69"
      }
    },
    {
      "cell_type": "markdown",
      "source": [
        "The main function is the driver of the program. It uses a while loop to continuously prompt the user for actions. Depending on the user's choice, it calls the appropriate functions (create_user, user_login, reset_user)."
      ],
      "metadata": {
        "id": "vlsl4cz-O2Om"
      }
    },
    {
      "cell_type": "code",
      "source": [
        "# Main Function\n",
        "def main():\n",
        "    while True:\n",
        "        print(\"\\n1. Register\\n2. Login\\n3. Reset Users\\n4. Exit\")\n",
        "        choice = input(\"Enter your choice (1/2/3/4): \")\n",
        "\n",
        "        if choice == '1':\n",
        "            username = input(\"Enter a username: \")\n",
        "            password = input(\"Enter a password: \")\n",
        "            create_user(username, password)\n",
        "        elif choice == '2':\n",
        "            username = input(\"Enter your username: \")\n",
        "            password = input(\"Enter your password: \")\n",
        "            if user_login(username, password):\n",
        "                print(f\"User '{username}' successfully logged in.\")\n",
        "            else:\n",
        "                print(\"Invalid username or password. Login failed.\")\n",
        "        elif choice == '3':\n",
        "            reset_user()\n",
        "        elif choice == '4':\n",
        "            print(\"Exiting program. Goodbye!\")\n",
        "            break\n",
        "        else:\n",
        "            print(\"Invalid choice. Please enter 1, 2, 3, or 4.\")\n",
        "\n",
        "# Run the main function\n",
        "if __name__ == \"__main__\":\n",
        "    main()\n"
      ],
      "metadata": {
        "colab": {
          "base_uri": "https://localhost:8080/"
        },
        "id": "a8SDc-bUNv1O",
        "outputId": "f87bd891-9301-4cc1-db49-b6840f01191f"
      },
      "execution_count": null,
      "outputs": [
        {
          "output_type": "stream",
          "name": "stdout",
          "text": [
            "\n",
            "1. Register\n",
            "2. Login\n",
            "3. Reset Users\n",
            "4. Exit\n",
            "Enter your choice (1/2/3/4): 3\n",
            "All user data successfully cleared.\n",
            "\n",
            "1. Register\n",
            "2. Login\n",
            "3. Reset Users\n",
            "4. Exit\n"
          ]
        }
      ]
    }
  ]
}