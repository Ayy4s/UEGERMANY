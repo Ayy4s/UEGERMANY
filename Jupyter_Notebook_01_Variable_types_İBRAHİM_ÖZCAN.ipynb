{
  "nbformat": 4,
  "nbformat_minor": 0,
  "metadata": {
    "colab": {
      "provenance": [],
      "authorship_tag": "ABX9TyNeCWrlj3LTP62bgdsLMKEv",
      "include_colab_link": true
    },
    "kernelspec": {
      "name": "python3",
      "display_name": "Python 3"
    },
    "language_info": {
      "name": "python"
    }
  },
  "cells": [
    {
      "cell_type": "markdown",
      "metadata": {
        "id": "view-in-github",
        "colab_type": "text"
      },
      "source": [
        "<a href=\"https://colab.research.google.com/github/Ayy4s/UEGERMANY/blob/main/Jupyter_Notebook_01_Variable_types_%C4%B0BRAH%C4%B0M_%C3%96ZCAN.ipynb\" target=\"_parent\"><img src=\"https://colab.research.google.com/assets/colab-badge.svg\" alt=\"Open In Colab\"/></a>"
      ]
    },
    {
      "cell_type": "markdown",
      "source": [
        "##Exercise about Variable types\n",
        "author:İBRAHİM ÖZCAN\n",
        "student_id(Matriculation no): 25118939\n",
        "date:24 October 2023"
      ],
      "metadata": {
        "id": "y44CqjdJti9v"
      }
    },
    {
      "cell_type": "code",
      "source": [
        "# Quantitative Data\n",
        "messages_count = 50  # Example: Number of messages in a selected WhatsApp chat today\n",
        "university_time = 6.5  # Example: Time spent at the University today (hours)\n",
        "commute_time = 1.25  # Example: Time needed to commute to the University (hours)\n",
        "screen_time = 4.5  # Example: Screen time on your smartphone (hours)\n",
        "\n",
        "# Qualitative Data\n",
        "family_names = [\"Mother\", \"Father\", \"Sibling\", \"Spouse\"]  # Example: Names in your family\n",
        "visited_countries = [\"USA\", \"UK\", \"France\"]  # Example: Countries you visited\n",
        "favorite_animals = [\"Dog\", \"Cat\", \"Bird\"]  # Example: Favorite animals\n",
        "favorite_foods = [\"Pizza\", \"Sushi\", \"Meatballs\"]  # Example: Favorite foods\n",
        "\n"
      ],
      "metadata": {
        "id": "-Ux6NRoR33LG"
      },
      "execution_count": 1,
      "outputs": []
    },
    {
      "cell_type": "markdown",
      "source": [
        "# Variable Name: messages_count\n",
        "# Variable Type: Integer\n",
        "# Explanation: This variable stores the number of messages in a selected WhatsApp Chat today.\n",
        "messages_count = 50\n",
        "\n",
        "# Variable Name: university_time\n",
        "# Variable Type: Float\n",
        "# Explanation: This variable represents the time spent at the University today in hours.\n",
        "university_time = 6.5\n",
        "\n",
        "# Variable Name: commute_time\n",
        "# Variable Type: Float\n",
        "# Explanation: This variable represents the time needed to commute to the University in hours.\n",
        "commute_time = 1.25\n",
        "\n",
        "# Variable Name: screen_time\n",
        "# Variable Type: Float\n",
        "# Explanation: This variable represents the screen time on your smartphone in hours.\n",
        "screen_time = 4.5\n"
      ],
      "metadata": {
        "id": "yKgMbsKP2Riw"
      }
    },
    {
      "cell_type": "markdown",
      "source": [
        "# Variable Name: family_names\n",
        "# Variable Type: List of Strings\n",
        "# Explanation: This variable stores the names of family members.\n",
        "family_names = [\"Mother\", \"Father\", \"Sibling\", \"Spouse\"]\n",
        "\n",
        "# Variable Name: visited_countries\n",
        "# Variable Type: List of Strings\n",
        "# Explanation: This variable stores the names of countries you have visited.\n",
        "visited_countries = [\"USA\", \"UK\", \"France\"]\n",
        "\n",
        "# Variable Name: favorite_animals\n",
        "# Variable Type: List of Strings\n",
        "# Explanation: This variable stores your favorite animals.\n",
        "favorite_animals = [\"Dog\", \"Cat\", \"Bird\"]\n",
        "\n",
        "# Variable Name: favorite_foods\n",
        "# Variable Type: List of Strings\n",
        "# Explanation: This variable stores your favorite foods.\n",
        "favorite_foods = [\"Pizza\", \"Sushi\", \"Meatballs\"]\n"
      ],
      "metadata": {
        "id": "2Cbyvc302kPD"
      }
    },
    {
      "cell_type": "code",
      "source": [
        "# Quantitative Data\n",
        "messages_count = 50  # An integer variable for the number of messages\n",
        "university_time = 6.5  # A floating-point variable for time spent at the University (hours)\n",
        "commute_time = 1.25  # A floating-point variable for commute time to the University (hours)\n",
        "screen_time = 4.5  # A floating-point variable for screen time on the smartphone (hours)\n",
        "\n",
        "# Qualitative Data\n",
        "family_names = [\"Mother\", \"Father\", \"Sibling\", \"Spouse\"]  # A list variable for family names\n",
        "visited_countries = [\"USA\", \"UK\", \"France\"]  # A list variable for visited countries\n",
        "favorite_animals = [\"Dog\", \"Cat\", \"Bird\"]  # A list variable for favorite animals\n",
        "favorite_foods = [\"Pizza\", \"Sushi\", \"Meatballs\"]  # A list variable for favorite foods\n"
      ],
      "metadata": {
        "id": "mdLLgb-HsV9W"
      },
      "execution_count": 5,
      "outputs": []
    },
    {
      "cell_type": "code",
      "source": [
        "# Variable type: Integer\n",
        "messages_count = 50\n",
        "print(messages_count)\n",
        "\n",
        "# Variable type: Float\n",
        "university_time = 6.5\n",
        "print(university_time)\n",
        "\n",
        "# Variable type: Float\n",
        "commute_time = 1.25\n",
        "print(commute_time)\n",
        "\n",
        "# Variable type: Float\n",
        "screen_time = 4.5\n",
        "print(screen_time)\n"
      ],
      "metadata": {
        "colab": {
          "base_uri": "https://localhost:8080/"
        },
        "id": "nBpMJsZh27ah",
        "outputId": "f191d98c-04c0-48b5-97ec-cf16accb7168"
      },
      "execution_count": 6,
      "outputs": [
        {
          "output_type": "stream",
          "name": "stdout",
          "text": [
            "50\n",
            "6.5\n",
            "1.25\n",
            "4.5\n"
          ]
        }
      ]
    },
    {
      "cell_type": "code",
      "source": [
        "# Variable type: List of Strings\n",
        "family_names = [\"Mother\", \"Father\", \"Sibling\", \"Spouse\"]\n",
        "print(family_names)\n",
        "\n",
        "# Variable type: List of Strings\n",
        "visited_countries = [\"USA\", \"UK\", \"France\"]\n",
        "print(visited_countries)\n",
        "\n",
        "# Variable type: List of Strings\n",
        "favorite_animals = [\"Dog\", \"Cat\", \"Bird\"]\n",
        "print(favorite_animals)\n",
        "\n",
        "# Variable type: List of Strings\n",
        "favorite_foods = [\"Pizza\", \"Sushi\", \"Meatballs\"]\n",
        "print(favorite_foods)\n"
      ],
      "metadata": {
        "colab": {
          "base_uri": "https://localhost:8080/"
        },
        "id": "UEmRm0os286B",
        "outputId": "9e22e202-3534-4c3e-d3b4-6de675d2a5c9"
      },
      "execution_count": 7,
      "outputs": [
        {
          "output_type": "stream",
          "name": "stdout",
          "text": [
            "['Mother', 'Father', 'Sibling', 'Spouse']\n",
            "['USA', 'UK', 'France']\n",
            "['Dog', 'Cat', 'Bird']\n",
            "['Pizza', 'Sushi', 'Meatballs']\n"
          ]
        }
      ]
    },
    {
      "cell_type": "code",
      "source": [
        "# Variable type: String\n",
        "study_program = 'DBDS'\n",
        "\n",
        "# Variable type: Integer\n",
        "messages_count = 50\n",
        "\n",
        "# Variable type: Float\n",
        "university_time = 6.5\n"
      ],
      "metadata": {
        "id": "71fupjqpsYAp"
      },
      "execution_count": 3,
      "outputs": []
    },
    {
      "cell_type": "code",
      "source": [
        "# Variable type: String\n",
        "study_program = 'DBDS'\n",
        "print(study_program)\n",
        "\n",
        "# Variable type: Integer\n",
        "messages_count = 50\n",
        "print(messages_count)\n",
        "\n",
        "# Variable type: Float\n",
        "university_time = 6.5\n",
        "print(university_time)\n"
      ],
      "metadata": {
        "colab": {
          "base_uri": "https://localhost:8080/"
        },
        "id": "YO6wnhKIsnTN",
        "outputId": "fe679419-9388-4c18-ae7d-183c4a9f1d8f"
      },
      "execution_count": 4,
      "outputs": [
        {
          "output_type": "stream",
          "name": "stdout",
          "text": [
            "DBDS\n",
            "50\n",
            "6.5\n"
          ]
        }
      ]
    },
    {
      "cell_type": "code",
      "source": [],
      "metadata": {
        "id": "HUas9ZzhssCf"
      },
      "execution_count": null,
      "outputs": []
    }
  ]
}