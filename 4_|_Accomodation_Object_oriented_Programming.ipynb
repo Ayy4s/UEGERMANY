{
  "nbformat": 4,
  "nbformat_minor": 0,
  "metadata": {
    "colab": {
      "provenance": [],
      "authorship_tag": "ABX9TyNJUeqy7hm3WiDjqMJBT4d5",
      "include_colab_link": true
    },
    "kernelspec": {
      "name": "python3",
      "display_name": "Python 3"
    },
    "language_info": {
      "name": "python"
    }
  },
  "cells": [
    {
      "cell_type": "markdown",
      "metadata": {
        "id": "view-in-github",
        "colab_type": "text"
      },
      "source": [
        "<a href=\"https://colab.research.google.com/github/Ayy4s/UEGERMANY/blob/main/4_%7C_Accomodation_Object_oriented_Programming.ipynb\" target=\"_parent\"><img src=\"https://colab.research.google.com/assets/colab-badge.svg\" alt=\"Open In Colab\"/></a>"
      ]
    },
    {
      "cell_type": "markdown",
      "source": [
        "#4 | Accomodation - Object-oriented Programming"
      ],
      "metadata": {
        "id": "IIJ6-VwsMr8f"
      }
    },
    {
      "cell_type": "markdown",
      "source": [
        "Coded by [İBRAHİM ÖZCAN] Author:İBRAHİM ÖZCAN student_id(Matriculation no): 25118939 Date:05/12/2023  00:36\n",
        "\n"
      ],
      "metadata": {
        "id": "lwSHcGOrLgUz"
      }
    },
    {
      "cell_type": "markdown",
      "source": [
        "Part 1: Create 'class' part. In this part we are using first class function. 'class' is a blueprint for creating objects, defining their attributes and behaviors. We did implement a constructer for class and defined 4 abilities."
      ],
      "metadata": {
        "id": "I_FIbRZEMKDV"
      }
    },
    {
      "cell_type": "code",
      "execution_count": 83,
      "metadata": {
        "id": "cbSfWbwezoaE"
      },
      "outputs": [],
      "source": [
        "class Accommodation: #With 'class' function we  define for 'Accomodation'.\n",
        "    def __init__(self, name, location, capacity, price_per_night): #Constructor method with 4 attributes.\n",
        "        self.name = name # Accomodation name\n",
        "        self.location = location #Location of Accomodation.\n",
        "        self.capacity = capacity #Capacity of number guests.\n",
        "        self.price_per_night = price_per_night #Price for per night\n"
      ]
    },
    {
      "cell_type": "markdown",
      "source": [
        "Part 2: The Accommodation class represents accommodations, and each time an instance is created, it initializes specific attributes such as name, location, capacity, and price per night, while also incrementing the class variable total_bookings to track the overall number of bookings across all instances."
      ],
      "metadata": {
        "id": "heFZmjXFTcne"
      }
    },
    {
      "cell_type": "code",
      "source": [
        "class Accommodation:\n",
        "    total_bookings = 0 # Class variable to track total bookings across all instances\n",
        "\n",
        "    def __init__(self, name, location, capacity, price_per_night):\n",
        "        self.name = name\n",
        "        self.location = location\n",
        "        self.capacity = capacity\n",
        "        self.price_per_night = price_per_night\n",
        "        Accommodation.total_bookings += 1  #There's a method to apply a discount to the price.\n"
      ],
      "metadata": {
        "id": "RlbHVXi791Qo"
      },
      "execution_count": 84,
      "outputs": []
    },
    {
      "cell_type": "markdown",
      "source": [
        "Part 3: Additionally, there's a method to apply a discount to the price. Also there is Gatters and Setter methods."
      ],
      "metadata": {
        "id": "e9Rq8OcwgjAx"
      }
    },
    {
      "cell_type": "code",
      "source": [
        "class Accommodation:\n",
        "    total_bookings = 0\n",
        "\n",
        "    def __init__(self, name, location, capacity, price_per_night):\n",
        "        self.name = name\n",
        "        self.location = location\n",
        "        self.capacity = capacity\n",
        "        self.price_per_night = price_per_night\n",
        "        Accommodation.total_bookings += 1\n",
        "\n",
        "    # All Getter Methods\n",
        "    def get_name(self):\n",
        "        return self.name\n",
        "\n",
        "    def get_location(self):\n",
        "        return self.location\n",
        "\n",
        "    def get_capacity(self):\n",
        "        return self.capacity\n",
        "\n",
        "    def get_price_per_night(self):\n",
        "        return self.price_per_night\n",
        "\n",
        "    # All Setter Methods\n",
        "    def set_name(self, new_name):\n",
        "        self.name = new_name\n",
        "\n",
        "    def set_location(self, new_location):\n",
        "        self.location = new_location\n",
        "\n",
        "    def set_capacity(self, new_capacity):\n",
        "        self.capacity = new_capacity\n",
        "\n",
        "    def set_price_per_night(self, new_price):\n",
        "        self.price_per_night = new_price\n",
        "\n",
        "\n",
        "    def apply_discount(self, discount_percentage):\n",
        "\n",
        "        self.price_per_night -= (self.price_per_night * discount_percentage) / 100 #Apply a discount to the price based on the given percentage\n"
      ],
      "metadata": {
        "id": "a9Fc_yq_-OX_"
      },
      "execution_count": 85,
      "outputs": []
    },
    {
      "cell_type": "markdown",
      "source": [
        "Part 4:The Hotel class is a subclass of Accommodation, inheriting its attributes. It adds a unique attribute, star_rating, and overrides the __str__ method to include the star rating in the string representation.\n",
        "\n",
        "\n",
        "\n",
        "\n",
        "\n",
        "\n"
      ],
      "metadata": {
        "id": "_1SE1Si-iXp6"
      }
    },
    {
      "cell_type": "code",
      "source": [
        "class Hotel(Accommodation):\n",
        "    def __init__(self, name, location, capacity, price_per_night, star_rating):\n",
        "        # Call the constructor of the parent class (Accommodation)\n",
        "        super().__init__(name, location, capacity, price_per_night)\n",
        "        # Unique attribute for Hotel\n",
        "        self.star_rating = star_rating\n",
        "\n",
        "    def __str__(self):\n",
        "        return f\"{super().__str__()} - Star Rating: {self.star_rating}\"\n",
        "\n",
        "class Apartment(Accommodation):\n",
        "    def __init__(self, name, location, capacity, price_per_night, num_rooms):\n",
        "        # Call the constructor of the parent class (Accommodation)\n",
        "        super().__init__(name, location, capacity, price_per_night)\n",
        "        # Unique attribute for Apartment\n",
        "        self.num_rooms = num_rooms\n",
        "\n",
        "    def __str__(self):\n",
        "        return f\"{super().__str__()} - Number of Rooms: {self.num_rooms}\"\n"
      ],
      "metadata": {
        "id": "xYTtVFCR-Xs7"
      },
      "execution_count": 86,
      "outputs": []
    },
    {
      "cell_type": "markdown",
      "source": [
        "Part 5:Objects representing accommodations with specific attributesare created, including an instance of the Accommodation class and subclasses. Methods are called to retrieve and manipulate data, such as getting the name of an accommodation, getting the price per night of a hotel, and applying a discount to the price of an apartment."
      ],
      "metadata": {
        "id": "jC8UU2cEkSxx"
      }
    },
    {
      "cell_type": "code",
      "source": [
        "# Create an object of the Accommodation class\n",
        "accommodation_1 = Accommodation(\"Ibrahim Ozcan\", \"Dark\", 4, 100)\n",
        "\n",
        "# Create objects for the subclasses\n",
        "hotel_1 = Hotel(\"Seyhan Hotel\", \"Seyhan\", 100, 200, 5)\n",
        "apartment_1 = Apartment(\"Palmiye Apartment\", \"Suburb\", 6, 150, 3)\n",
        "\n",
        "# Call methods for each object\n",
        "print(accommodation_1.get_name())           # Retrieve the name of the accommodation\n",
        "print(hotel_1.get_price_per_night())        # Retrieve the price per night of the hotel\n",
        "apartment_1.apply_discount(10)              # Apply a discount for the apartment\n",
        "\n",
        "# Display updated information\n",
        "print(f\"After 10% discount, new price for {apartment_1.get_name()}: ${apartment_1.get_price_per_night()}\")\n"
      ],
      "metadata": {
        "colab": {
          "base_uri": "https://localhost:8080/"
        },
        "id": "_Gm5m77t-ffC",
        "outputId": "7f33de4e-2f5a-4e29-bb9b-59f9008fa55d"
      },
      "execution_count": 87,
      "outputs": [
        {
          "output_type": "stream",
          "name": "stdout",
          "text": [
            "Ibrahim Ozcan\n",
            "200\n",
            "After 10% discount, new price for Modern Apartment: $135.0\n"
          ]
        }
      ]
    },
    {
      "cell_type": "markdown",
      "source": [
        "Extra Part: I did this because last one  is correct or not correct."
      ],
      "metadata": {
        "id": "dfT2ysMilSw6"
      }
    },
    {
      "cell_type": "code",
      "source": [
        "import random\n",
        "\n",
        "class Accommodation:\n",
        "    total_bookings = 0\n",
        "\n",
        "    def __init__(self, name, location, capacity, price_per_night):\n",
        "        self.name = name\n",
        "        self.location = location\n",
        "        self.capacity = capacity\n",
        "        self.price_per_night = price_per_night\n",
        "        Accommodation.total_bookings += 1\n",
        "\n",
        "    def __str__(self):\n",
        "        return f\"{self.name} - {self.location} - Capacity: {self.capacity} - Price per Night: ${self.price_per_night}\"\n",
        "\n",
        "# Random hotel names in the list\n",
        "hotel_names = [\"Koza Hotel\", \"Aksu Resort\", \"Royal Palace\", \"Golden Hats Hotel\", \"Harmony Inn\"]\n",
        "\n",
        "# Function for selecting a random hotel name\n",
        "def get_random_hotel_name():\n",
        "    return random.choice(hotel_names)\n",
        "\n",
        "# Example usage\n",
        "random_hotel_name = get_random_hotel_name()\n",
        "random_accommodation = Accommodation(random_hotel_name, \"City Center\", 100, 150)\n",
        "\n",
        "print(random_accommodation)\n",
        "print(f\"Total bookings: {Accommodation.total_bookings}\")\n"
      ],
      "metadata": {
        "colab": {
          "base_uri": "https://localhost:8080/"
        },
        "id": "1VR2FhZxKyhN",
        "outputId": "49b8010b-ec18-4be1-a7a7-7136b9d44c39"
      },
      "execution_count": 88,
      "outputs": [
        {
          "output_type": "stream",
          "name": "stdout",
          "text": [
            "Harmony Inn - City Center - Capacity: 100 - Price per Night: $150\n",
            "Total bookings: 1\n"
          ]
        }
      ]
    }
  ]
}