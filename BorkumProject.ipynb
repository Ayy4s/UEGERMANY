{
  "nbformat": 4,
  "nbformat_minor": 0,
  "metadata": {
    "colab": {
      "provenance": [],
      "authorship_tag": "ABX9TyMveUArnv5XIM4kBp0UiYG0",
      "include_colab_link": true
    },
    "kernelspec": {
      "name": "python3",
      "display_name": "Python 3"
    },
    "language_info": {
      "name": "python"
    }
  },
  "cells": [
    {
      "cell_type": "markdown",
      "metadata": {
        "id": "view-in-github",
        "colab_type": "text"
      },
      "source": [
        "<a href=\"https://colab.research.google.com/github/Ayy4s/UEGERMANY/blob/main/BorkumProject.ipynb\" target=\"_parent\"><img src=\"https://colab.research.google.com/assets/colab-badge.svg\" alt=\"Open In Colab\"/></a>"
      ]
    },
    {
      "cell_type": "code",
      "execution_count": null,
      "metadata": {
        "id": "MY_gHJzsbIvW"
      },
      "outputs": [],
      "source": [
        "import pandas as pd\n",
        "import matplotlib.pyplot as plt\n",
        "\n",
        "# Load the data\n",
        "data = pd.read_excel('/content/borkum_data_full 240627.xlsx')\n",
        "\n",
        "# Example data\n",
        "years = ['2015', '2016', '2017', '2018', '2019', '2020', '2021']\n",
        "visitor_numbers = [15000, 16000, 17000, 18000, 19000, 10000, 15000]\n",
        "\n",
        "# Plotting the visitor numbers by year\n",
        "plt.figure(figsize=(10, 6))\n",
        "plt.plot(years, visitor_numbers, marker='o')\n",
        "plt.title('Visitor Numbers by Year')\n",
        "plt.xlabel('Year')\n",
        "plt.ylabel('Number of Visitors')\n",
        "plt.grid(True)\n",
        "plt.show()\n",
        "\n",
        "# Additional Analysis: Visitor Numbers by Season (Example)\n",
        "seasons = ['Winter', 'Spring', 'Summer', 'Autumn']\n",
        "visitor_season_numbers = [4000, 6000, 8000, 5000]\n",
        "\n",
        "plt.figure(figsize=(10, 6))\n",
        "plt.bar(seasons, visitor_season_numbers, color='skyblue')\n",
        "plt.title('Visitor Numbers by Season')\n",
        "plt.xlabel('Season')\n",
        "plt.ylabel('Number of Visitors')\n",
        "plt.show()\n"
      ]
    },
    {
      "cell_type": "code",
      "source": [
        "import pandas as pd\n",
        "import matplotlib.pyplot as plt\n",
        "\n",
        "# Load the data\n",
        "data = pd.read_excel('/content/borkum_data_full 240627.xlsx')\n",
        "\n",
        "# Example data (Replace with actual data loading and processing)\n",
        "ages = [25, 30, 35, 40, 45, 50, 55, 60, 65, 70, 75]\n",
        "\n",
        "# Plotting the age distribution\n",
        "plt.figure(figsize=(10, 6))\n",
        "plt.hist(ages, bins=10, color='skyblue', edgecolor='black')\n",
        "plt.title('Age Distribution of Visitors')\n",
        "plt.xlabel('Age')\n",
        "plt.ylabel('Number of Visitors')\n",
        "plt.grid(True)\n",
        "plt.show()\n"
      ],
      "metadata": {
        "id": "owNSdBVIb-x5"
      },
      "execution_count": null,
      "outputs": []
    },
    {
      "cell_type": "code",
      "source": [
        "import pandas as pd\n",
        "import matplotlib.pyplot as plt\n",
        "\n",
        "# Load the data\n",
        "file_path = '/content/borkum_data_full 240627.xlsx'\n",
        "data = pd.read_excel(file_path)\n",
        "\n",
        "# Extract the age data and drop NaN values\n",
        "ages = data['VB12_01'].dropna()\n",
        "\n",
        "# Plotting the age distribution\n",
        "plt.figure(figsize=(10, 6))\n",
        "plt.hist(ages, bins=10, color='skyblue', edgecolor='black')\n",
        "plt.title('Age Distribution of Visitors')\n",
        "plt.xlabel('Age')\n",
        "plt.ylabel('Number of Visitors')\n",
        "plt.grid(True)\n",
        "plt.show()\n"
      ],
      "metadata": {
        "id": "d6Uh3JUhcN94"
      },
      "execution_count": null,
      "outputs": []
    },
    {
      "cell_type": "code",
      "source": [
        "import pandas as pd\n",
        "import matplotlib.pyplot as plt\n",
        "\n",
        "# Load the data\n",
        "file_path = '/content/borkum_data_full 240627.xlsx'\n",
        "data = pd.read_excel(file_path)\n",
        "\n",
        "# Example data processing\n",
        "reasons_for_visiting = data['VB01_07'].value_counts()\n",
        "travel_companions = data['VB06'].value_counts()\n",
        "gender_distribution = data['VB12_02'].value_counts()\n",
        "\n",
        "# Plotting reasons for visiting\n",
        "plt.figure(figsize=(10, 6))\n",
        "reasons_for_visiting.plot(kind='pie', autopct='%1.1f%%', startangle=90)\n",
        "plt.title('Reasons for Visiting Borkum')\n",
        "plt.ylabel('')\n",
        "plt.show()\n",
        "\n",
        "# Plotting travel companions\n",
        "plt.figure(figsize=(10, 6))\n",
        "travel_companions.plot(kind='bar', color='skyblue')\n",
        "plt.title('Typical Travel Companions')\n",
        "plt.xlabel('Companion Type')\n",
        "plt.ylabel('Number of Visitors')\n",
        "plt.show()\n",
        "\n",
        "# Plotting gender distribution\n",
        "plt.figure(figsize=(10, 6))\n",
        "gender_distribution.plot(kind='bar', color='skyblue')\n",
        "plt.title('Gender Distribution of Visitors')\n",
        "plt.xlabel('Gender')\n",
        "plt.ylabel('Number of Visitors')\n",
        "plt.show()\n"
      ],
      "metadata": {
        "id": "-I9F1F4_cyM-"
      },
      "execution_count": null,
      "outputs": []
    },
    {
      "cell_type": "code",
      "source": [
        "import pandas as pd\n",
        "import matplotlib.pyplot as plt\n",
        "\n",
        "# Load the data\n",
        "file_path = '/content/borkum_data_full 240627.xlsx'\n",
        "data = pd.read_excel(file_path)\n",
        "\n",
        "# Example data processing\n",
        "reasons_for_visiting = data['VB01_07'].value_counts()\n",
        "travel_companions = data['VB06'].value_counts()\n",
        "gender_distribution = data['VB12_02'].value_counts()\n",
        "\n",
        "# Plotting reasons for visiting\n",
        "plt.figure(figsize=(10, 6))\n",
        "reasons_for_visiting.plot(kind='pie', autopct='%1.1f%%', startangle=90)\n",
        "plt.title('Reasons for Visiting Borkum')\n",
        "plt.ylabel('')\n",
        "plt.show()\n",
        "\n",
        "# Plotting travel companions\n",
        "plt.figure(figsize=(10, 6))\n",
        "travel_companions.plot(kind='bar', color='skyblue')\n",
        "plt.title('Typical Travel Companions')\n",
        "plt.xlabel('Companion Type')\n",
        "plt.ylabel('Number of Visitors')\n",
        "plt.show()\n",
        "\n",
        "# Plotting gender distribution\n",
        "plt.figure(figsize=(10, 6))\n",
        "gender_distribution.plot(kind='bar', color='skyblue')\n",
        "plt.title('Gender Distribution of Visitors')\n",
        "plt.xlabel('Gender')\n",
        "plt.ylabel('Number of Visitors')\n",
        "plt.show()\n"
      ],
      "metadata": {
        "id": "euPSJMW2c4nW"
      },
      "execution_count": null,
      "outputs": []
    },
    {
      "cell_type": "code",
      "source": [
        "import pandas as pd\n",
        "import matplotlib.pyplot as plt\n",
        "\n",
        "# upload\n",
        "file_path = '/content/borkum_data_full 240627.xlsx'\n",
        "data = pd.read_excel(file_path)\n",
        "\n",
        "#\n",
        "visitor_numbers_by_year = data['VB10_01'].value_counts().sort_index()\n",
        "\n",
        "# Making a graph\n",
        "plt.figure(figsize=(10, 6))\n",
        "visitor_numbers_by_year.plot(kind='line', marker='o')\n",
        "plt.title('Visitor Numbers by Year')\n",
        "plt.xlabel('Year')\n",
        "plt.ylabel('Number of Visitors')\n",
        "plt.grid(True)\n",
        "plt.tight_layout()\n",
        "\n",
        "# save graph\n",
        "plt.savefig('visitor_numbers_by_year.png')\n",
        "\n",
        "# show graph\n",
        "plt.show()\n"
      ],
      "metadata": {
        "id": "DeLu_KNOc_YK"
      },
      "execution_count": null,
      "outputs": []
    },
    {
      "cell_type": "code",
      "source": [
        "# R Codes\n",
        "install.packages(\"readxl\")\n",
        "install.packages(\"ggplot2\")\n",
        "library(readxl)\n",
        "library(ggplot2)\n",
        "\n",
        "# read the data\n",
        "file_path <- \"path_to_your_dataset.xlsx\"\n",
        "data <- read_excel(file_path)\n",
        "\n",
        "# Calculating visitor numbers on a yearly basis\n",
        "visitor_numbers_by_year <- table(data$VB10_01)\n",
        "\n",
        "# Creating a data frame\n",
        "df <- as.data.frame(visitor_numbers_by_year)\n",
        "names(df) <- c(\"Year\", \"Visitors\")\n",
        "\n",
        "# Creating a chart\n",
        "ggplot(df, aes(x = Year, y = Visitors)) +\n",
        "  geom_line() +\n",
        "  geom_point() +\n",
        "  ggtitle(\"Visitor Numbers by Year\") +\n",
        "  xlab(\"Year\") +\n",
        "  ylab(\"Number of Visitors\") +\n",
        "  theme_minimal()\n",
        "\n",
        "# save graph\n",
        "ggsave(\"visitor_numbers_by_year.png\")\n"
      ],
      "metadata": {
        "id": "DPYaBxA_dRUj"
      },
      "execution_count": null,
      "outputs": []
    },
    {
      "cell_type": "code",
      "source": [
        "import matplotlib.pyplot as plt\n",
        "\n",
        "# Hypothetical data\n",
        "years = [2015, 2016, 2017, 2018, 2019, 2020, 2021]\n",
        "visitor_numbers = [12000, 14000, 16000, 18000, 20000, 10000, 15000]\n",
        "\n",
        "# Plotting the data\n",
        "plt.figure(figsize=(10, 6))\n",
        "plt.plot(years, visitor_numbers, marker='o')\n",
        "plt.title('Visitor Numbers by Year')\n",
        "plt.xlabel('Year')\n",
        "plt.ylabel('Number of Visitors')\n",
        "plt.grid(True)\n",
        "plt.tight_layout()\n",
        "\n",
        "# Save the plot\n",
        "plt.savefig('visitor_numbers_by_year.png')\n",
        "\n",
        "# Display the plot\n",
        "plt.show()\n"
      ],
      "metadata": {
        "id": "-fr39Yv9dmE0"
      },
      "execution_count": null,
      "outputs": []
    },
    {
      "cell_type": "code",
      "source": [
        "import matplotlib.pyplot as plt\n",
        "\n",
        "# Updated data including hypothetical future years\n",
        "years = [2015, 2016, 2017, 2018, 2019, 2020, 2021, 2022, 2023, 2024]\n",
        "visitor_numbers = [12000, 14000, 16000, 18000, 20000, 10000, 15000, 17000, 19000, 21000]\n",
        "\n",
        "# Plotting the data\n",
        "plt.figure(figsize=(10, 6))\n",
        "plt.plot(years, visitor_numbers, marker='o')\n",
        "plt.title('Visitor Numbers by Year')\n",
        "plt.xlabel('Year')\n",
        "plt.ylabel('Number of Visitors')\n",
        "plt.grid(True)\n",
        "plt.tight_layout()\n",
        "\n",
        "# Save the plot\n",
        "plt.savefig('visitor_numbers_by_year.png')\n",
        "\n",
        "# Display the plot\n",
        "plt.show()\n"
      ],
      "metadata": {
        "id": "4oy02HuVdqMh"
      },
      "execution_count": null,
      "outputs": []
    },
    {
      "cell_type": "code",
      "source": [
        "import pandas as pd\n",
        "\n",
        "\n",
        "file_path = '/mnt/data/borkum_data_full 240627.xlsx'\n",
        "data = pd.read_excel(file_path)\n",
        "\n",
        "\n",
        "year_2024_present = 2024 in data['VB10_01'].values\n",
        "year_2024_present\n"
      ],
      "metadata": {
        "id": "EVjHcahEduRj"
      },
      "execution_count": null,
      "outputs": []
    },
    {
      "cell_type": "code",
      "source": [
        "import matplotlib.pyplot as plt\n",
        "\n",
        "# Örnek veriler\n",
        "years = [2015, 2016, 2017, 2018, 2019, 2020, 2021]\n",
        "visitor_numbers = [12000, 14000, 16000, 18000, 20000, 10000, 15000]\n",
        "\n",
        "# Çizgi Grafik: Yıl Bazında Ziyaretçi Sayıları\n",
        "plt.figure(figsize=(10, 6))\n",
        "plt.plot(years, visitor_numbers, marker='o')\n",
        "plt.title('Visitor Numbers by Year')\n",
        "plt.xlabel('Year')\n",
        "plt.ylabel('Number of Visitors')\n",
        "plt.grid(True)\n",
        "plt.tight_layout()\n",
        "plt.savefig('visitor_numbers_by_year.png')\n",
        "plt.show()\n",
        "\n",
        "#\n",
        "seasons = ['Spring', 'Summer', 'Autumn', 'Winter']\n",
        "seasonal_visitors = [3000, 8000, 5000, 2000]\n",
        "\n",
        "plt.figure(figsize=(10, 6))\n",
        "plt.bar(seasons, seasonal_visitors)\n",
        "plt.title('Visitor Numbers by Season')\n",
        "plt.xlabel('Season')\n",
        "plt.ylabel('Number of Visitors')\n",
        "plt.tight_layout()\n",
        "plt.savefig('visitor_numbers_by_season.png')\n",
        "plt.show()\n"
      ],
      "metadata": {
        "id": "qUdezxFdd8ra"
      },
      "execution_count": null,
      "outputs": []
    },
    {
      "cell_type": "code",
      "source": [
        "import matplotlib.pyplot as plt\n",
        "\n",
        "\n",
        "years = list(range(2015, 2024))\n",
        "seasons = ['Spring', 'Summer', 'Autumn', 'Winter']\n",
        "\n",
        "seasonal_visitors = {\n",
        "    'Spring': [3000, 3100, 3200, 3300, 3400, 3500, 3600, 3700, 3800],\n",
        "    'Summer': [8000, 8200, 8400, 8600, 8800, 9000, 9200, 9400, 9600],\n",
        "    'Autumn': [5000, 5100, 5200, 5300, 5400, 5500, 5600, 5700, 5800],\n",
        "    'Winter': [2000, 2100, 2200, 2300, 2400, 2500, 2600, 2700, 2800]\n",
        "}\n",
        "\n",
        "\n",
        "for season in seasons:\n",
        "    plt.figure(figsize=(10, 6))\n",
        "    plt.bar(years, seasonal_visitors[season], label=season)\n",
        "    plt.title(f'Visitor Numbers in {season}')\n",
        "    plt.xlabel('Year')\n",
        "    plt.ylabel('Number of Visitors')\n",
        "    plt.legend()\n",
        "    plt.grid(True)\n",
        "    plt.tight_layout()\n",
        "    plt.savefig(f'visitor_numbers_{season.lower()}.png')\n",
        "    plt.show()\n"
      ],
      "metadata": {
        "id": "mPP-IjAod__q"
      },
      "execution_count": null,
      "outputs": []
    },
    {
      "cell_type": "code",
      "source": [
        "import matplotlib.pyplot as plt\n",
        "\n",
        "\n",
        "reasons = ['Tourists', 'Second Home', 'Spa Patients', 'Family Connections', 'Work', 'Live on Island']\n",
        "percentages = [54.5, 13.5, 11.6, 9.2, 5.6, 3.2]\n",
        "\n",
        "# pie graph\n",
        "plt.figure(figsize=(8, 8))\n",
        "plt.pie(percentages, labels=reasons, autopct='%1.1f%%', startangle=140)\n",
        "plt.title('Reasons for Visiting Borkum')\n",
        "plt.savefig('reasons_for_visiting_borkum.png')\n",
        "plt.show()\n"
      ],
      "metadata": {
        "id": "dD2mlZN_eFko"
      },
      "execution_count": null,
      "outputs": []
    },
    {
      "cell_type": "code",
      "source": [
        "import matplotlib.pyplot as plt\n",
        "\n",
        "#\n",
        "companions = ['Partner', 'Family', 'Alone', 'Group/School', 'Friends/Extended Family']\n",
        "percentages = [38.5, 30.7, 15.2, 10.3, 5.3]\n",
        "\n",
        "# pie graph\n",
        "plt.figure(figsize=(8, 8))\n",
        "plt.pie(percentages, labels=companions, autopct='%1.1f%%', startangle=140)\n",
        "plt.title('Travel Companions')\n",
        "plt.savefig('travel_companions.png')\n",
        "plt.show()\n"
      ],
      "metadata": {
        "id": "7IW1NMpYeJoi"
      },
      "execution_count": null,
      "outputs": []
    },
    {
      "cell_type": "code",
      "source": [
        "import matplotlib.pyplot as plt\n",
        "\n",
        "# datas\n",
        "categories = ['Accommodation', 'Food and Beverages', 'Transportation', 'Activities', 'Shopping']\n",
        "percentages = [35, 25, 15, 15, 10]\n",
        "\n",
        "# pie graph\n",
        "plt.figure(figsize=(8, 8))\n",
        "plt.pie(percentages, labels=categories, autopct='%1.1f%%', startangle=140, colors=['#ff9999','#66b3ff','#99ff99','#ffcc99','#c2c2f0'])\n",
        "plt.title('Visitor Spending Distribution')\n",
        "plt.savefig('visitor_spending_distribution.png')\n",
        "plt.show()\n"
      ],
      "metadata": {
        "id": "gO9eqWjceTCx"
      },
      "execution_count": null,
      "outputs": []
    },
    {
      "cell_type": "code",
      "source": [
        "import matplotlib.pyplot as plt\n",
        "\n",
        "# datas\n",
        "categories = ['Very Satisfied', 'Satisfied', 'Dissatisfied (Accommodation)', 'Dissatisfied (Dining)']\n",
        "percentages = [40, 35, 10, 8]\n",
        "\n",
        "# pie graph\n",
        "plt.figure(figsize=(8, 8))\n",
        "plt.pie(percentages, labels=categories, autopct='%1.1f%%', startangle=140, colors=['#66b3ff','#99ff99','#ffcc99','#ff9999'])\n",
        "plt.title('Visitor Satisfaction Levels')\n",
        "plt.savefig('visitor_satisfaction_levels.png')\n",
        "plt.show()\n"
      ],
      "metadata": {
        "id": "OO5m-SDxeZC1"
      },
      "execution_count": null,
      "outputs": []
    },
    {
      "cell_type": "code",
      "source": [
        "import matplotlib.pyplot as plt\n",
        "import numpy as np\n",
        "\n",
        "# datas\n",
        "labels = ['Natural Beauty', 'Cleanliness', 'Friendly Locals', 'Accommodation', 'Dining']\n",
        "stats = [80, 80, 75, 90, 92]  # Örnek yüzdeler\n",
        "\n",
        "# spider graph\n",
        "angles = np.linspace(0, 2 * np.pi, len(labels), endpoint=False).tolist()\n",
        "stats = stats + stats[:1]\n",
        "angles += angles[:1]\n",
        "\n",
        "fig, ax = plt.subplots(figsize=(8, 8), subplot_kw=dict(polar=True))\n",
        "ax.fill(angles, stats, color='blue', alpha=0.25)\n",
        "ax.plot(angles, stats, color='blue', linewidth=2)\n",
        "ax.set_yticklabels([])\n",
        "ax.set_xticks(angles[:-1])\n",
        "ax.set_xticklabels(labels)\n",
        "ax.set_title('Visitor Satisfaction by Category')\n",
        "plt.savefig('radar_visitor_satisfaction.png')\n",
        "plt.show()\n"
      ],
      "metadata": {
        "id": "CyTf1rIoee4x"
      },
      "execution_count": null,
      "outputs": []
    },
    {
      "cell_type": "code",
      "source": [],
      "metadata": {
        "id": "FJUzXr3MekPC"
      },
      "execution_count": null,
      "outputs": []
    }
  ]
}